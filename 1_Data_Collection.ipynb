{
 "cells": [
  {
   "cell_type": "code",
   "execution_count": null,
   "metadata": {},
   "outputs": [],
   "source": [
    "import requests\n",
    "import pandas as pd\n",
    "import json\n",
    "import numpy as np"
   ]
  },
  {
   "cell_type": "code",
   "execution_count": null,
   "metadata": {},
   "outputs": [],
   "source": [
    "url = 'https://api.pushshift.io/reddit/search/submission/'"
   ]
  },
  {
   "cell_type": "markdown",
   "metadata": {},
   "source": [
    "## TalesFromRetail"
   ]
  },
  {
   "cell_type": "code",
   "execution_count": null,
   "metadata": {},
   "outputs": [],
   "source": [
    "#---For grabbing new posts if needed\n",
    "\n",
    "#df_retail = pd.read_csv('./data/retail_text.csv', index_col=0)\n",
    "#utc = df_retail.iloc[-1]['created_utc']"
   ]
  },
  {
   "cell_type": "code",
   "execution_count": null,
   "metadata": {},
   "outputs": [],
   "source": [
    "df_retail = None"
   ]
  },
  {
   "cell_type": "code",
   "execution_count": null,
   "metadata": {},
   "outputs": [],
   "source": [
    "retail_pulls_list = []"
   ]
  },
  {
   "cell_type": "code",
   "execution_count": null,
   "metadata": {},
   "outputs": [],
   "source": [
    "utc = retail_pulls_list[-1]['created_utc']\n",
    "#utc = 1611104272\n",
    "\n",
    "for i in range(10):\n",
    "    params = {\n",
    "        'subreddit' : 'TalesFromRetail',\n",
    "        'size' : '100',\n",
    "        'before': utc\n",
    "    }\n",
    "\n",
    "    res = requests.get(url, params)\n",
    "    data = res.json()\n",
    "    pull = data['data']\n",
    "    for post in pull:\n",
    "        retail_pulls_list.append(post)\n",
    "    utc = pull[-1]['created_utc']\n",
    "    print(utc)"
   ]
  },
  {
   "cell_type": "code",
   "execution_count": null,
   "metadata": {},
   "outputs": [],
   "source": [
    "len(retail_pulls_list)"
   ]
  },
  {
   "cell_type": "code",
   "execution_count": null,
   "metadata": {},
   "outputs": [],
   "source": [
    "df_retail_pulls = pd.DataFrame(retail_pulls_list)"
   ]
  },
  {
   "cell_type": "code",
   "execution_count": null,
   "metadata": {},
   "outputs": [],
   "source": [
    "df_retail_combined = pd.concat([df_retail, df_retail_pulls])"
   ]
  },
  {
   "cell_type": "code",
   "execution_count": null,
   "metadata": {},
   "outputs": [],
   "source": [
    "df_retail_combined.to_csv('./data/all_retail.csv')"
   ]
  },
  {
   "cell_type": "code",
   "execution_count": null,
   "metadata": {},
   "outputs": [],
   "source": [
    "#---Gets rid of [deleted] posts\n",
    "df_retail_text = df_retail_combined.loc[df_retail_combined['selftext'].str.len() > 9]"
   ]
  },
  {
   "cell_type": "code",
   "execution_count": null,
   "metadata": {},
   "outputs": [],
   "source": [
    "df_retail_text.to_csv('./data/retail_text.csv')"
   ]
  },
  {
   "cell_type": "markdown",
   "metadata": {},
   "source": [
    "## TalesFromYourServer"
   ]
  },
  {
   "cell_type": "code",
   "execution_count": null,
   "metadata": {},
   "outputs": [],
   "source": [
    "#---For grabbing new posts if needed\n",
    "\n",
    "#df_server = pd.read_csv('./data/server_text.csv', index_col=0)\n",
    "#utc = df_server.iloc[-1]['created_utc']"
   ]
  },
  {
   "cell_type": "code",
   "execution_count": null,
   "metadata": {},
   "outputs": [],
   "source": [
    "df_server = None"
   ]
  },
  {
   "cell_type": "code",
   "execution_count": null,
   "metadata": {},
   "outputs": [],
   "source": [
    "server_pulls_list = []"
   ]
  },
  {
   "cell_type": "code",
   "execution_count": null,
   "metadata": {},
   "outputs": [],
   "source": []
  },
  {
   "cell_type": "code",
   "execution_count": null,
   "metadata": {},
   "outputs": [],
   "source": [
    "utc = server_pulls_list[-1]['created_utc']\n",
    "#utc = 1611104272\n",
    "\n",
    "for i in range(10):\n",
    "    params = {\n",
    "        'subreddit' : 'TalesFromYourServer',\n",
    "        'size' : '100',\n",
    "        'before': utc\n",
    "    }\n",
    "\n",
    "    res = requests.get(url, params)\n",
    "    data = res.json()\n",
    "    pull = data['data']\n",
    "    for post in pull:\n",
    "        server_pulls_list.append(post)\n",
    "    utc = pull[-1]['created_utc']\n",
    "    print(utc)"
   ]
  },
  {
   "cell_type": "code",
   "execution_count": null,
   "metadata": {},
   "outputs": [],
   "source": [
    "len(server_pulls_list)"
   ]
  },
  {
   "cell_type": "code",
   "execution_count": null,
   "metadata": {},
   "outputs": [],
   "source": [
    "df_server_pulls = pd.DataFrame(server_pulls_list)"
   ]
  },
  {
   "cell_type": "code",
   "execution_count": null,
   "metadata": {},
   "outputs": [],
   "source": [
    "df_server_combined = pd.concat([df_server, df_server_pulls])"
   ]
  },
  {
   "cell_type": "code",
   "execution_count": null,
   "metadata": {},
   "outputs": [],
   "source": [
    "df_server_combined.to_csv('./data/all_server.csv')"
   ]
  },
  {
   "cell_type": "code",
   "execution_count": null,
   "metadata": {},
   "outputs": [],
   "source": [
    "#---Gets rid of [deleted] posts\n",
    "\n",
    "df_server_text = df_server_combined.loc[df_server_combined['selftext'].str.len() > 9]"
   ]
  },
  {
   "cell_type": "code",
   "execution_count": null,
   "metadata": {},
   "outputs": [],
   "source": [
    "df_server_text.to_csv('./data/server_text.csv')"
   ]
  }
 ],
 "metadata": {
  "kernelspec": {
   "display_name": "Python 3",
   "language": "python",
   "name": "python3"
  },
  "language_info": {
   "codemirror_mode": {
    "name": "ipython",
    "version": 3
   },
   "file_extension": ".py",
   "mimetype": "text/x-python",
   "name": "python",
   "nbconvert_exporter": "python",
   "pygments_lexer": "ipython3",
   "version": "3.8.2"
  }
 },
 "nbformat": 4,
 "nbformat_minor": 4
}
