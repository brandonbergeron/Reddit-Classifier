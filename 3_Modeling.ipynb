{
 "cells": [
  {
   "cell_type": "code",
   "execution_count": 230,
   "metadata": {},
   "outputs": [],
   "source": [
    "import pandas as pd\n",
    "import numpy as np\n",
    "import seaborn as sns\n",
    "import matplotlib.pyplot as plt\n",
    "import re\n",
    "\n",
    "from nltk.stem import WordNetLemmatizer\n",
    "from nltk.tokenize import word_tokenize\n",
    "from nltk.corpus import stopwords\n",
    "\n",
    "from sklearn.model_selection import train_test_split, GridSearchCV\n",
    "from sklearn.feature_extraction.text import CountVectorizer, TfidfVectorizer\n",
    "from sklearn.preprocessing import StandardScaler\n",
    "from sklearn.pipeline import make_pipeline\n",
    "\n",
    "from sklearn.linear_model import LogisticRegression\n",
    "from sklearn.naive_bayes import MultinomialNB\n",
    "from sklearn.svm import SVC\n",
    "from sklearn.ensemble import AdaBoostClassifier, GradientBoostingClassifier, RandomForestClassifier\n",
    "\n",
    "plt.style.use('fivethirtyeight')\n",
    "\n",
    "import warnings\n",
    "warnings.filterwarnings('ignore')"
   ]
  },
  {
   "cell_type": "code",
   "execution_count": 180,
   "metadata": {},
   "outputs": [],
   "source": [
    "#--- Getting feature importances- only for pipeline\n",
    "def get_imports(pipe, transformer, estimator, imports):\n",
    "    '''\n",
    "    takes a pipeline, it's named estimator, and # of important features\n",
    "    \n",
    "    \n",
    "    Args:\n",
    "        pipe: name of pipeline instance\n",
    "        transformer (str): ex 'countvectorizer'\n",
    "        estimator (str): ex. 'logisticregression', 'ridge'\n",
    "        imports (int): number of important features desired\n",
    "        \n",
    "        \n",
    "    '''\n",
    "    features = pipe.named_steps[transformer].get_feature_names()\n",
    "    coefs = pipe.named_steps[estimator].coef_\n",
    "    coefs_df = pd.DataFrame({'importance': coefs[0]}, index = features)\n",
    "    \n",
    "    return coefs_df.sort_values('importance', ascending=False).head(imports)\n",
    "    \n",
    "\n",
    "#---Print train/test scores\n",
    "def print_scores(model):\n",
    "    print('train score: ' + str(model.score(X_train, y_train)))\n",
    "    print('test score: ' + str(model.score(X_test, y_test)))\n",
    "\n",
    "def print_scores_lem(model):\n",
    "    print('train score: ' + str(model.score(X_train_lem, y_train_lem)))\n",
    "    print('test score: ' + str(model.score(X_test_lem, y_test_lem)))    "
   ]
  },
  {
   "cell_type": "code",
   "execution_count": 199,
   "metadata": {},
   "outputs": [],
   "source": [
    "posts = pd.read_csv('./data/clean_posts.csv')\n",
    "posts.reset_index(drop=True, inplace=True)\n",
    "posts.dropna(subset=['lemmatized'], inplace=True)"
   ]
  },
  {
   "cell_type": "code",
   "execution_count": 188,
   "metadata": {},
   "outputs": [],
   "source": []
  },
  {
   "cell_type": "code",
   "execution_count": 69,
   "metadata": {},
   "outputs": [
    {
     "data": {
      "text/plain": [
       "RangeIndex(start=0, stop=19288, step=1)"
      ]
     },
     "execution_count": 69,
     "metadata": {},
     "output_type": "execute_result"
    }
   ],
   "source": [
    "posts.index"
   ]
  },
  {
   "cell_type": "code",
   "execution_count": 67,
   "metadata": {},
   "outputs": [
    {
     "data": {
      "text/plain": [
       "RangeIndex(start=0, stop=5716, step=1)"
      ]
     },
     "execution_count": 67,
     "metadata": {},
     "output_type": "execute_result"
    }
   ],
   "source": [
    "covid.index"
   ]
  },
  {
   "cell_type": "code",
   "execution_count": 68,
   "metadata": {},
   "outputs": [
    {
     "data": {
      "text/plain": [
       "RangeIndex(start=0, stop=13572, step=1)"
      ]
     },
     "execution_count": 68,
     "metadata": {},
     "output_type": "execute_result"
    }
   ],
   "source": [
    "pre_covid.index"
   ]
  },
  {
   "cell_type": "markdown",
   "metadata": {},
   "source": [
    "## Baseline Accuracy: 54.3%"
   ]
  },
  {
   "cell_type": "code",
   "execution_count": 182,
   "metadata": {},
   "outputs": [
    {
     "data": {
      "text/plain": [
       "TalesFromYourServer    0.543032\n",
       "TalesFromRetail        0.456968\n",
       "Name: subreddit, dtype: float64"
      ]
     },
     "execution_count": 182,
     "metadata": {},
     "output_type": "execute_result"
    }
   ],
   "source": [
    "posts['subreddit'].value_counts(normalize=True)"
   ]
  },
  {
   "cell_type": "markdown",
   "metadata": {},
   "source": [
    "## TTS for lemmatized and non-lemmatized"
   ]
  },
  {
   "cell_type": "markdown",
   "metadata": {},
   "source": [
    "Positive class: TalesFromYourServer"
   ]
  },
  {
   "cell_type": "code",
   "execution_count": 200,
   "metadata": {},
   "outputs": [],
   "source": [
    "X_lem = posts['lemmatized']\n",
    "\n",
    "X = posts['selftext']\n",
    "y = np.where(posts['subreddit'] == 'TalesFromYourServer', 1, 0)\n",
    "\n",
    "X_train, X_test, y_train, y_test = train_test_split(X, y)\n",
    "X_train_lem, X_test_lem, y_train_lem, y_test_lem = train_test_split(X_lem, y)"
   ]
  },
  {
   "cell_type": "code",
   "execution_count": 201,
   "metadata": {},
   "outputs": [
    {
     "data": {
      "text/plain": [
       "0"
      ]
     },
     "execution_count": 201,
     "metadata": {},
     "output_type": "execute_result"
    }
   ],
   "source": [
    "X_train_lem.isna().sum()"
   ]
  },
  {
   "cell_type": "markdown",
   "metadata": {},
   "source": [
    "## First Model: Simple Logistic Regression w/ Count Vectorizer"
   ]
  },
  {
   "cell_type": "code",
   "execution_count": 202,
   "metadata": {},
   "outputs": [
    {
     "name": "stdout",
     "output_type": "stream",
     "text": [
      "train score: 0.9998617065412806\n",
      "test score: 0.9151628292885293\n"
     ]
    }
   ],
   "source": [
    "logr = LogisticRegression(max_iter=1000, n_jobs=-1)\n",
    "ss = StandardScaler(with_mean=False)\n",
    "cvect = CountVectorizer()\n",
    "\n",
    "pipe = make_pipeline(cvect, ss, logr)\n",
    "\n",
    "pipe.fit(X_train, y_train)\n",
    "print_scores(pipe)"
   ]
  },
  {
   "cell_type": "code",
   "execution_count": 203,
   "metadata": {},
   "outputs": [
    {
     "name": "stdout",
     "output_type": "stream",
     "text": [
      "train score: 0.9999308532706404\n",
      "test score: 0.9101846090022817\n"
     ]
    }
   ],
   "source": [
    "pipe.fit(X_train_lem, y_train_lem)\n",
    "print_scores_lem(pipe)"
   ]
  },
  {
   "cell_type": "code",
   "execution_count": 185,
   "metadata": {},
   "outputs": [
    {
     "data": {
      "text/html": [
       "<div>\n",
       "<style scoped>\n",
       "    .dataframe tbody tr th:only-of-type {\n",
       "        vertical-align: middle;\n",
       "    }\n",
       "\n",
       "    .dataframe tbody tr th {\n",
       "        vertical-align: top;\n",
       "    }\n",
       "\n",
       "    .dataframe thead th {\n",
       "        text-align: right;\n",
       "    }\n",
       "</style>\n",
       "<table border=\"1\" class=\"dataframe\">\n",
       "  <thead>\n",
       "    <tr style=\"text-align: right;\">\n",
       "      <th></th>\n",
       "      <th>importance</th>\n",
       "    </tr>\n",
       "  </thead>\n",
       "  <tbody>\n",
       "    <tr>\n",
       "      <th>restaurant</th>\n",
       "      <td>0.702886</td>\n",
       "    </tr>\n",
       "    <tr>\n",
       "      <th>tip</th>\n",
       "      <td>0.464955</td>\n",
       "    </tr>\n",
       "    <tr>\n",
       "      <th>server</th>\n",
       "      <td>0.445985</td>\n",
       "    </tr>\n",
       "    <tr>\n",
       "      <th>table</th>\n",
       "      <td>0.422824</td>\n",
       "    </tr>\n",
       "    <tr>\n",
       "      <th>servers</th>\n",
       "      <td>0.310700</td>\n",
       "    </tr>\n",
       "    <tr>\n",
       "      <th>tables</th>\n",
       "      <td>0.301698</td>\n",
       "    </tr>\n",
       "    <tr>\n",
       "      <th>food</th>\n",
       "      <td>0.298683</td>\n",
       "    </tr>\n",
       "    <tr>\n",
       "      <th>tips</th>\n",
       "      <td>0.290433</td>\n",
       "    </tr>\n",
       "    <tr>\n",
       "      <th>serving</th>\n",
       "      <td>0.277777</td>\n",
       "    </tr>\n",
       "    <tr>\n",
       "      <th>restaurants</th>\n",
       "      <td>0.276274</td>\n",
       "    </tr>\n",
       "  </tbody>\n",
       "</table>\n",
       "</div>"
      ],
      "text/plain": [
       "             importance\n",
       "restaurant     0.702886\n",
       "tip            0.464955\n",
       "server         0.445985\n",
       "table          0.422824\n",
       "servers        0.310700\n",
       "tables         0.301698\n",
       "food           0.298683\n",
       "tips           0.290433\n",
       "serving        0.277777\n",
       "restaurants    0.276274"
      ]
     },
     "execution_count": 185,
     "metadata": {},
     "output_type": "execute_result"
    }
   ],
   "source": [
    "get_imports(pipe, 'countvectorizer', 'logisticregression', 10)"
   ]
  },
  {
   "cell_type": "markdown",
   "metadata": {},
   "source": [
    "## Logistic Regression with some hyperparameter tuning:"
   ]
  },
  {
   "cell_type": "code",
   "execution_count": 204,
   "metadata": {},
   "outputs": [
    {
     "name": "stdout",
     "output_type": "stream",
     "text": [
      "train score: 0.9551237726455538\n",
      "test score: 0.9450321510060153\n"
     ]
    }
   ],
   "source": [
    "logreg = LogisticRegression(max_iter=1000, n_jobs=-1)\n",
    "ss = StandardScaler(with_mean=False)\n",
    "cvect_logreg = CountVectorizer(stop_words='english', max_features=500) \n",
    "tfidf_logreg = TfidfVectorizer(stop_words='english', max_features=500)\n",
    "\n",
    "\n",
    "pipe_logreg_cvect = make_pipeline(cvect_logreg, ss, logreg)\n",
    "pipe_logreg_tfidf = make_pipeline(tfidf_logreg, ss, logreg)\n",
    "\n",
    "pipe_logreg_cvect.fit(X_train, y_train)\n",
    "print_scores(pipe_logreg_cvect)"
   ]
  },
  {
   "cell_type": "code",
   "execution_count": 205,
   "metadata": {},
   "outputs": [
    {
     "name": "stdout",
     "output_type": "stream",
     "text": [
      "Cvect:\n",
      "train score: 0.958097082008021\n",
      "test score: 0.940261356565028\n",
      "TFIDF:\n",
      "train score: 0.9596874567832941\n",
      "test score: 0.9439950217797137\n"
     ]
    }
   ],
   "source": [
    "pipe_logreg_cvect.fit(X_train_lem, y_train_lem)\n",
    "print('Cvect:')\n",
    "print_scores_lem(pipe_logreg_cvect)\n",
    "\n",
    "pipe_logreg_tfidf.fit(X_train_lem, y_train_lem)\n",
    "print('TFIDF:')\n",
    "print_scores_lem(pipe_logreg_tfidf)"
   ]
  },
  {
   "cell_type": "code",
   "execution_count": 206,
   "metadata": {},
   "outputs": [
    {
     "data": {
      "image/png": "[encoded data removed]",
      "text/plain": [
       "<Figure size 432x288 with 1 Axes>"
      ]
     },
     "metadata": {},
     "output_type": "display_data"
    }
   ],
   "source": [
    "get_imports(pipe_logreg_tfidf, 'tfidfvectorizer', 'logisticregression', 10).plot(kind='barh')\n",
    "plt.title('Most Influential words in LogisticRegression Model');"
   ]
  },
  {
   "cell_type": "code",
   "execution_count": null,
   "metadata": {},
   "outputs": [],
   "source": []
  },
  {
   "cell_type": "markdown",
   "metadata": {},
   "source": [
    "## Naive Bayes"
   ]
  },
  {
   "cell_type": "code",
   "execution_count": 207,
   "metadata": {},
   "outputs": [
    {
     "data": {
      "text/plain": [
       "Pipeline(steps=[('tfidfvectorizer',\n",
       "                 TfidfVectorizer(max_features=500, stop_words='english')),\n",
       "                ('standardscaler', StandardScaler(with_mean=False)),\n",
       "                ('multinomialnb', MultinomialNB())])"
      ]
     },
     "execution_count": 207,
     "metadata": {},
     "output_type": "execute_result"
    }
   ],
   "source": [
    "cvect4 = CountVectorizer(stop_words='english', max_features=500) #--Overfit without max_features\n",
    "tfidf = TfidfVectorizer(stop_words='english', max_features=500)\n",
    "ss = StandardScaler(with_mean=False)\n",
    "nb = MultinomialNB()\n",
    "\n",
    "pipe_nb_cvect = make_pipeline(cvect4, ss, nb)\n",
    "pipe_nb_tfidf = make_pipeline(tfidf, ss, nb)\n",
    "\n",
    "\n",
    "pipe_nb_cvect.fit(X_train, y_train)\n",
    "pipe_nb_tfidf.fit(X_train, y_train)"
   ]
  },
  {
   "cell_type": "code",
   "execution_count": 208,
   "metadata": {},
   "outputs": [
    {
     "name": "stdout",
     "output_type": "stream",
     "text": [
      "NB with CVect:\n",
      "train score: 0.9343797538376435\n",
      "test score: 0.9369425430408629\n",
      " \n",
      "NB with TfIdf\n",
      "train score: 0.9311298575577375\n",
      "test score: 0.9309271935283137\n"
     ]
    }
   ],
   "source": [
    "#---Not a huge difference in performance with Cvect vs Tfidf\n",
    "\n",
    "print('NB with CVect:')\n",
    "print_scores(pipe_nb_cvect)\n",
    "print(' ')\n",
    "print('NB with TfIdf')\n",
    "print_scores(pipe_nb_tfidf)"
   ]
  },
  {
   "cell_type": "code",
   "execution_count": 209,
   "metadata": {},
   "outputs": [
    {
     "name": "stdout",
     "output_type": "stream",
     "text": [
      "NB with CVect:\n",
      "train score: 0.9365924491771539\n",
      "test score: 0.9336237295166978\n",
      " \n",
      "NB with TfIdf\n",
      "train score: 0.9301618033467017\n",
      "test score: 0.9276083800041485\n"
     ]
    }
   ],
   "source": [
    "pipe_nb_cvect.fit(X_train_lem, y_train_lem)\n",
    "pipe_nb_tfidf.fit(X_train_lem, y_train_lem)\n",
    "\n",
    "print('NB with CVect:')\n",
    "print_scores_lem(pipe_nb_cvect)\n",
    "print(' ')\n",
    "print('NB with TfIdf')\n",
    "print_scores_lem(pipe_nb_tfidf)"
   ]
  },
  {
   "cell_type": "code",
   "execution_count": 20,
   "metadata": {},
   "outputs": [
    {
     "data": {
      "text/html": [
       "<div>\n",
       "<style scoped>\n",
       "    .dataframe tbody tr th:only-of-type {\n",
       "        vertical-align: middle;\n",
       "    }\n",
       "\n",
       "    .dataframe tbody tr th {\n",
       "        vertical-align: top;\n",
       "    }\n",
       "\n",
       "    .dataframe thead th {\n",
       "        text-align: right;\n",
       "    }\n",
       "</style>\n",
       "<table border=\"1\" class=\"dataframe\">\n",
       "  <thead>\n",
       "    <tr style=\"text-align: right;\">\n",
       "      <th></th>\n",
       "      <th>coefs</th>\n",
       "    </tr>\n",
       "  </thead>\n",
       "  <tbody>\n",
       "    <tr>\n",
       "      <th>restaurant</th>\n",
       "      <td>-4.976109</td>\n",
       "    </tr>\n",
       "    <tr>\n",
       "      <th>table</th>\n",
       "      <td>-5.005157</td>\n",
       "    </tr>\n",
       "    <tr>\n",
       "      <th>like</th>\n",
       "      <td>-5.011137</td>\n",
       "    </tr>\n",
       "    <tr>\n",
       "      <th>time</th>\n",
       "      <td>-5.075603</td>\n",
       "    </tr>\n",
       "    <tr>\n",
       "      <th>server</th>\n",
       "      <td>-5.114036</td>\n",
       "    </tr>\n",
       "    <tr>\n",
       "      <th>work</th>\n",
       "      <td>-5.120578</td>\n",
       "    </tr>\n",
       "    <tr>\n",
       "      <th>people</th>\n",
       "      <td>-5.168382</td>\n",
       "    </tr>\n",
       "    <tr>\n",
       "      <th>know</th>\n",
       "      <td>-5.193314</td>\n",
       "    </tr>\n",
       "    <tr>\n",
       "      <th>make</th>\n",
       "      <td>-5.270377</td>\n",
       "    </tr>\n",
       "    <tr>\n",
       "      <th>food</th>\n",
       "      <td>-5.292627</td>\n",
       "    </tr>\n",
       "  </tbody>\n",
       "</table>\n",
       "</div>"
      ],
      "text/plain": [
       "               coefs\n",
       "restaurant -4.976109\n",
       "table      -5.005157\n",
       "like       -5.011137\n",
       "time       -5.075603\n",
       "server     -5.114036\n",
       "work       -5.120578\n",
       "people     -5.168382\n",
       "know       -5.193314\n",
       "make       -5.270377\n",
       "food       -5.292627"
      ]
     },
     "execution_count": 20,
     "metadata": {},
     "output_type": "execute_result"
    }
   ],
   "source": [
    "get_imports(pipe_nb_cvect, 'countvectorizer', 'multinomialnb', 10) #-- not as easy to interpret"
   ]
  },
  {
   "cell_type": "markdown",
   "metadata": {},
   "source": [
    "## RandomForest"
   ]
  },
  {
   "cell_type": "code",
   "execution_count": 220,
   "metadata": {},
   "outputs": [
    {
     "name": "stdout",
     "output_type": "stream",
     "text": [
      "train score: 0.9995159728944821\n",
      "test score: 0.9541588881974694\n"
     ]
    }
   ],
   "source": [
    "cvect_forest = CountVectorizer(stop_words='english', max_features=500)\n",
    "tfidf_forest = TfidfVectorizer(stop_words='english', max_features=500)\n",
    "forest = RandomForestClassifier(n_estimators=200, n_jobs=-1)\n",
    "\n",
    "pipe_forest_cvect = make_pipeline(cvect_forest, ss, forest)\n",
    "pipe_forest_tfidf = make_pipeline(tfidf_forest, ss, forest)\n",
    "\n",
    "pipe_forest_cvect.fit(X_train_lem, y_train_lem)\n",
    "print_scores_lem(pipe_forest_cvect)"
   ]
  },
  {
   "cell_type": "code",
   "execution_count": 221,
   "metadata": {},
   "outputs": [
    {
     "name": "stdout",
     "output_type": "stream",
     "text": [
      "train score: 0.9995159728944821\n",
      "test score: 0.9570628500311139\n"
     ]
    }
   ],
   "source": [
    "pipe_forest_tfidf.fit(X_train_lem, y_train_lem)\n",
    "print_scores_lem(pipe_forest_tfidf)"
   ]
  },
  {
   "cell_type": "markdown",
   "metadata": {},
   "source": [
    "## SVC"
   ]
  },
  {
   "cell_type": "code",
   "execution_count": 72,
   "metadata": {},
   "outputs": [
    {
     "name": "stdout",
     "output_type": "stream",
     "text": [
      "train score: 0.9738697635835752\n",
      "test score: 0.9413106594773952\n"
     ]
    }
   ],
   "source": [
    "cvect_svc = CountVectorizer(stop_words='english', max_features=500)\n",
    "tfidf_svc = TfidfVectorizer(stop_words='english', max_features=500)\n",
    "svc = SVC()\n",
    "\n",
    "pipe_svc_cvect = make_pipeline(cvect_svc, ss, svc)\n",
    "pipe_svc_tfidf = make_pipeline(tfidf_svc, ss, svc)\n",
    "\n",
    "pipe_svc_cvect.fit(X_train_lem, y_train_lem)\n",
    "print_scores_lem(pipe_svc_cvect)"
   ]
  },
  {
   "cell_type": "code",
   "execution_count": 73,
   "metadata": {},
   "outputs": [
    {
     "name": "stdout",
     "output_type": "stream",
     "text": [
      "train score: 0.9871422646204894\n",
      "test score: 0.9454583160514309\n"
     ]
    }
   ],
   "source": [
    "pipe_svc_tfidf.fit(X_train_lem, y_train_lem)\n",
    "print_scores_lem(pipe_svc_tfidf)"
   ]
  },
  {
   "cell_type": "markdown",
   "metadata": {},
   "source": [
    "# Boosting"
   ]
  },
  {
   "cell_type": "markdown",
   "metadata": {},
   "source": [
    "#### AdaBoost"
   ]
  },
  {
   "cell_type": "code",
   "execution_count": 70,
   "metadata": {},
   "outputs": [
    {
     "name": "stdout",
     "output_type": "stream",
     "text": [
      "AdaBoost with CVect\n",
      "train score: 0.9454583160514309\n",
      "test score: 0.9334301119867275\n",
      "\n",
      "Adaboost with TFIDF\n",
      "train score: 0.954997926171713\n",
      "test score: 0.9437992534218167\n"
     ]
    }
   ],
   "source": [
    "cvect_boost = CountVectorizer(stop_words='english', max_features=500)\n",
    "tfidf_boost = TfidfVectorizer(stop_words='english', max_features=500)\n",
    "\n",
    "adaboost = AdaBoostClassifier(n_estimators = 100)\n",
    "\n",
    "pipe_boost_cvect = make_pipeline(cvect_boost, ss, adaboost)\n",
    "pipe_boost_tfidf = make_pipeline(tfidf_boost, ss, adaboost)\n",
    "\n",
    "pipe_boost_cvect.fit(X_train_lem, y_train_lem)\n",
    "pipe_boost_tfidf.fit(X_train_lem, y_train_lem)\n",
    "\n",
    "print('AdaBoost with CVect')\n",
    "print_scores_lem(pipe_boost_cvect)\n",
    "print()\n",
    "print('Adaboost with TFIDF')\n",
    "print_scores_lem(pipe_boost_tfidf)"
   ]
  },
  {
   "cell_type": "markdown",
   "metadata": {},
   "source": [
    "#### GradientBoost"
   ]
  },
  {
   "cell_type": "code",
   "execution_count": 71,
   "metadata": {},
   "outputs": [
    {
     "name": "stdout",
     "output_type": "stream",
     "text": [
      "GradBoost with CVect\n",
      "train score: 0.9107562560486658\n",
      "test score: 0.9021153048527581\n",
      "\n",
      "Gradboost with TFIDF\n",
      "train score: 0.9535462463708005\n",
      "test score: 0.9419328079635007\n"
     ]
    }
   ],
   "source": [
    "gboost = GradientBoostingClassifier(n_estimators=100)\n",
    "\n",
    "pipe_gboost_cvect = make_pipeline(cvect_boost, ss, gboost)\n",
    "pipe_gboost_tfidf = make_pipeline(tfidf_boost, ss, gboost)\n",
    "\n",
    "pipe_gboost_cvect.fit(X_train_lem, y_train_lem)\n",
    "pipe_gboost_tfidf.fit(X_train_lem, y_train_lem)\n",
    "\n",
    "print('GradBoost with CVect')\n",
    "print_scores_lem(pipe_gboost_cvect)\n",
    "print()\n",
    "print('Gradboost with TFIDF')\n",
    "print_scores_lem(pipe_gboost_tfidf)"
   ]
  },
  {
   "cell_type": "code",
   "execution_count": 175,
   "metadata": {},
   "outputs": [
    {
     "data": {
      "image/png": "[encoded data removed]",
      "text/plain": [
       "<Figure size 432x288 with 1 Axes>"
      ]
     },
     "metadata": {},
     "output_type": "display_data"
    }
   ],
   "source": [
    "features = pipe_boost_tfidf.named_steps.tfidfvectorizer.get_feature_names()\n",
    "imports = pipe_boost_tfidf.named_steps.adaboostclassifier.feature_importances_\n",
    "pd.DataFrame({'importance': imports}, index = features).sort_values('importance', ascending=False).head(10).plot(kind='barh')\n",
    "plt.title('Most Influential words in AdaBoost Model');"
   ]
  },
  {
   "cell_type": "code",
   "execution_count": null,
   "metadata": {},
   "outputs": [],
   "source": []
  },
  {
   "cell_type": "markdown",
   "metadata": {},
   "source": [
    "## GridSearch AdaBoost, SVC, and LogisticRegression with TFIDF"
   ]
  },
  {
   "cell_type": "code",
   "execution_count": null,
   "metadata": {},
   "outputs": [],
   "source": [
    "#---Adaboost Grid"
   ]
  },
  {
   "cell_type": "code",
   "execution_count": 85,
   "metadata": {},
   "outputs": [],
   "source": [
    "tfidf = TfidfVectorizer(stop_words='english')\n",
    "ss = StandardScaler(with_mean=False)\n",
    "boost = AdaBoostClassifier()\n",
    "\n",
    "pipe = make_pipeline(tfidf, ss, boost)\n",
    "\n",
    "params = {\n",
    "    'tfidfvectorizer__ngram_range' : [(1,1), (1,2), (2,2)],\n",
    "    'adaboostclassifier__n_estimators' : [50, 100, 200],\n",
    "    'adaboostclassifier__learning_rate' : [1, 2, 5]\n",
    "}\n",
    "\n",
    "grid_boost = GridSearchCV(pipe, params, n_jobs=-1)"
   ]
  },
  {
   "cell_type": "code",
   "execution_count": 86,
   "metadata": {},
   "outputs": [
    {
     "data": {
      "text/plain": [
       "GridSearchCV(estimator=Pipeline(steps=[('tfidfvectorizer',\n",
       "                                        TfidfVectorizer(stop_words='english')),\n",
       "                                       ('standardscaler',\n",
       "                                        StandardScaler(with_mean=False)),\n",
       "                                       ('adaboostclassifier',\n",
       "                                        AdaBoostClassifier())]),\n",
       "             n_jobs=-1,\n",
       "             param_grid={'adaboostclassifier__learning_rate': [1, 2, 5],\n",
       "                         'adaboostclassifier__n_estimators': [50, 100, 200],\n",
       "                         'tfidfvectorizer__ngram_range': [(1, 1), (1, 2),\n",
       "                                                          (2, 2)]})"
      ]
     },
     "execution_count": 86,
     "metadata": {},
     "output_type": "execute_result"
    }
   ],
   "source": [
    "grid_boost.fit(X_train_lem, y_train_lem)"
   ]
  },
  {
   "cell_type": "code",
   "execution_count": 87,
   "metadata": {},
   "outputs": [
    {
     "name": "stdout",
     "output_type": "stream",
     "text": [
      "train score: 0.968754320475598\n",
      "test score: 0.9483616756532559\n"
     ]
    }
   ],
   "source": [
    "print_scores_lem(grid_boost)"
   ]
  },
  {
   "cell_type": "code",
   "execution_count": 88,
   "metadata": {},
   "outputs": [
    {
     "data": {
      "text/plain": [
       "{'adaboostclassifier__learning_rate': 1,\n",
       " 'adaboostclassifier__n_estimators': 200,\n",
       " 'tfidfvectorizer__ngram_range': (1, 2)}"
      ]
     },
     "execution_count": 88,
     "metadata": {},
     "output_type": "execute_result"
    }
   ],
   "source": [
    "grid_boost.best_params_"
   ]
  },
  {
   "cell_type": "code",
   "execution_count": 176,
   "metadata": {},
   "outputs": [],
   "source": [
    "#---SVC GridSearch. Too long to fit. \n",
    "\n",
    "tfidf = TfidfVectorizer(stop_words='english')\n",
    "ss = StandardScaler(with_mean=False)\n",
    "svc = SVC()\n",
    "\n",
    "pipe = make_pipeline(tfidf, ss, svc)\n",
    "\n",
    "params = {\n",
    "    'tfidfvectorizer__ngram_range' : [(1,1), (1,2)],\n",
    "    'svc__C' : [1, 10, 50],\n",
    "    'svc__kernel' : ['rbf', 'sigmoid']\n",
    "}\n",
    "\n",
    "grid_svc = GridSearchCV(pipe, params, n_jobs=-1)"
   ]
  },
  {
   "cell_type": "code",
   "execution_count": 177,
   "metadata": {},
   "outputs": [
    {
     "data": {
      "text/plain": [
       "GridSearchCV(estimator=Pipeline(steps=[('tfidfvectorizer',\n",
       "                                        TfidfVectorizer(stop_words='english')),\n",
       "                                       ('standardscaler',\n",
       "                                        StandardScaler(with_mean=False)),\n",
       "                                       ('svc', SVC())]),\n",
       "             n_jobs=-1,\n",
       "             param_grid={'svc__C': [1, 10, 50],\n",
       "                         'svc__kernel': ['rbf', 'sigmoid'],\n",
       "                         'tfidfvectorizer__ngram_range': [(1, 1), (1, 2)]})"
      ]
     },
     "execution_count": 177,
     "metadata": {},
     "output_type": "execute_result"
    }
   ],
   "source": [
    "grid_svc.fit(X_train_lem, y_train_lem)"
   ]
  },
  {
   "cell_type": "code",
   "execution_count": null,
   "metadata": {},
   "outputs": [
    {
     "name": "stdout",
     "output_type": "stream",
     "text": [
      "train score: 0.9994469791234619\n",
      "test score: 0.9164247200331812\n"
     ]
    }
   ],
   "source": [
    "print_scores_lem(grid_svc)"
   ]
  },
  {
   "cell_type": "code",
   "execution_count": 57,
   "metadata": {},
   "outputs": [
    {
     "data": {
      "text/plain": [
       "GridSearchCV(estimator=Pipeline(steps=[('tfidfvectorizer',\n",
       "                                        TfidfVectorizer(stop_words='english')),\n",
       "                                       ('standardscaler',\n",
       "                                        StandardScaler(with_mean=False)),\n",
       "                                       ('logisticregression',\n",
       "                                        LogisticRegression(max_iter=1000,\n",
       "                                                           n_jobs=-1))]),\n",
       "             n_jobs=-1,\n",
       "             param_grid={'logisticregression__C': [0.0001, 0.001, 0.1, 1, 10,\n",
       "                                                   100],\n",
       "                         'logisticregression__penalty': ['l1', 'l2'],\n",
       "                         'tfidfvectorizer__max_features': [200, 500, 1000]})"
      ]
     },
     "execution_count": 57,
     "metadata": {},
     "output_type": "execute_result"
    }
   ],
   "source": [
    "tfidf_logreg = TfidfVectorizer(stop_words='english')\n",
    "ss = StandardScaler(with_mean=False)\n",
    "logreg = LogisticRegression(max_iter=1000, n_jobs=-1)\n",
    "\n",
    "pipe_logreg_tfidf = make_pipeline(tfidf_logreg, ss, logreg)\n",
    "\n",
    "params = {\n",
    "    'tfidfvectorizer__max_features' : [200, 500, 1000],\n",
    "    'logisticregression__penalty' : ['l1', 'l2'],\n",
    "    'logisticregression__C' : [.0001, .001, .1, 1, 10, 100]\n",
    "}\n",
    "\n",
    "grid_log = GridSearchCV(pipe_logreg_tfidf, params, n_jobs=-1)\n",
    "grid_log.fit(X_train_lem, y_train_lem)"
   ]
  },
  {
   "cell_type": "code",
   "execution_count": 58,
   "metadata": {},
   "outputs": [
    {
     "data": {
      "text/plain": [
       "{'logisticregression__C': 0.001,\n",
       " 'logisticregression__penalty': 'l2',\n",
       " 'tfidfvectorizer__max_features': 1000}"
      ]
     },
     "execution_count": 58,
     "metadata": {},
     "output_type": "execute_result"
    }
   ],
   "source": [
    "grid_log.best_params_"
   ]
  },
  {
   "cell_type": "code",
   "execution_count": 59,
   "metadata": {},
   "outputs": [
    {
     "name": "stdout",
     "output_type": "stream",
     "text": [
      "train score: 0.9577630305544035\n",
      "test score: 0.947324761509747\n"
     ]
    }
   ],
   "source": [
    "print_scores_lem(grid_log)"
   ]
  },
  {
   "cell_type": "markdown",
   "metadata": {},
   "source": [
    "# My best model, for future use:"
   ]
  },
  {
   "cell_type": "code",
   "execution_count": 229,
   "metadata": {},
   "outputs": [],
   "source": [
    "#---Custom Lemmatizer repurposed for use in pipeline\n",
    "\n",
    "def custom_lemmatize(text):\n",
    "    \n",
    "    \n",
    "    #instantiate Lemmatizer and new dictionary to house altered posts\n",
    "    lemmatizer = WordNetLemmatizer()\n",
    "    \n",
    "    #setting up list of stopwords\n",
    "    stops = stopwords.words('english')\n",
    "         \n",
    "    text = text.lower()\n",
    "\n",
    "    #stripping the post of non-letters and frequently occuring TLDR; expression ('too long don't read)\n",
    "    exclusion_list = ['[^a-zA-Z]', 'tldr', 'tl;dr', 'http', '.com', 'www']\n",
    "    exclusions = '|'.join(exclusion_list)\n",
    "    text = re.sub(exclusions, ' ' , text)\n",
    "        \n",
    "    #---Lemmatizing words, preserving stopwords for transformer to handle\n",
    "    words = [lemmatizer.lemmatize(word) for word in text.split() if word not in stops]\n",
    "        \n",
    "    #---Adding lemmatized post to dictionary\n",
    "    return ' '.join(words)\n",
    "        \n",
    "        \n",
    "tfidf_forest = TfidfVectorizer(tokenizer=custom_lemmatize, stop_words='english', max_features=500)\n",
    "forest = RandomForestClassifier(n_estimators=200, n_jobs=-1)\n",
    "\n",
    "pipeline = make_pipeline(tfidf_forest, ss, forest)        "
   ]
  },
  {
   "cell_type": "markdown",
   "metadata": {},
   "source": [
    "# COVID Exploration"
   ]
  },
  {
   "cell_type": "code",
   "execution_count": 125,
   "metadata": {},
   "outputs": [],
   "source": [
    "covid = pd.read_csv('./data/covid.csv', index_col=0)\n",
    "pre_covid = pd.read_csv('./data/pre_covid.csv', index_col=0)\n",
    "\n",
    "covid.dropna(axis=0, subset=['lemmatized'], inplace=True)\n",
    "pre_covid.dropna(axis=0, subset=['lemmatized'], inplace=True)"
   ]
  },
  {
   "cell_type": "code",
   "execution_count": 127,
   "metadata": {},
   "outputs": [],
   "source": [
    "X_cov = covid['lemmatized']\n",
    "y_cov = covid['subreddit']\n",
    "\n",
    "X_pre = pre_covid['lemmatized']\n",
    "y_pre = pre_covid['subreddit']\n",
    "\n",
    "X_train_cov, X_test_cov, y_train_cov, y_test_cov = train_test_split(X_cov, y_cov)\n",
    "X_train_pre, X_test_pre, y_train_pre, y_test_pre = train_test_split(X_pre, y_pre)"
   ]
  },
  {
   "cell_type": "markdown",
   "metadata": {},
   "source": [
    "### AdaBoost"
   ]
  },
  {
   "cell_type": "code",
   "execution_count": 157,
   "metadata": {},
   "outputs": [],
   "source": [
    "tfidf = TfidfVectorizer(stop_words='english', ngram_range=(1,2), max_features=500)\n",
    "ss = StandardScaler(with_mean=False)\n",
    "boost = AdaBoostClassifier(n_estimators=200, )\n",
    "\n",
    "pipe = make_pipeline(tfidf, ss, boost)"
   ]
  },
  {
   "cell_type": "code",
   "execution_count": 152,
   "metadata": {},
   "outputs": [
    {
     "name": "stdout",
     "output_type": "stream",
     "text": [
      "AdaBoost Pre Covid\n",
      "train: 0.9637382075471698\n",
      "test: 0.9436910377358491\n"
     ]
    }
   ],
   "source": [
    "pipe.fit(X_train_pre, y_train_pre)\n",
    "print('AdaBoost Pre Covid')\n",
    "print('train: ' + str(pipe.score(X_train_pre, y_train_pre)))\n",
    "print('test: ' + str(pipe.score(X_test_pre, y_test_pre)))"
   ]
  },
  {
   "cell_type": "code",
   "execution_count": 153,
   "metadata": {},
   "outputs": [
    {
     "name": "stdout",
     "output_type": "stream",
     "text": [
      "AdaBoost During Covid\n",
      "train: 0.9997666822211853\n",
      "test: 0.9580125962211337\n"
     ]
    }
   ],
   "source": [
    "pipe.fit(X_train_cov, y_train_cov)\n",
    "print('AdaBoost During Covid')\n",
    "print('train: ' + str(pipe.score(X_train_cov, y_train_cov)))\n",
    "print('test: ' + str(pipe.score(X_test_cov, y_test_cov)))"
   ]
  },
  {
   "cell_type": "code",
   "execution_count": 158,
   "metadata": {},
   "outputs": [
    {
     "name": "stdout",
     "output_type": "stream",
     "text": [
      "score on Covid data: 0.941907261592301\n"
     ]
    }
   ],
   "source": [
    "pipe.fit(X_pre, y_pre)\n",
    "\n",
    "print('score on Covid data: ' + str(pipe.score(X_cov, y_cov)))"
   ]
  },
  {
   "cell_type": "markdown",
   "metadata": {},
   "source": [
    "### LogisticRegression"
   ]
  },
  {
   "cell_type": "code",
   "execution_count": 145,
   "metadata": {},
   "outputs": [],
   "source": [
    "tfidf = TfidfVectorizer(stop_words='english', max_features=1000)\n",
    "ss = StandardScaler(with_mean=False)\n",
    "logreg = LogisticRegression(C=.001, max_iter=1000, n_jobs=-1)\n",
    "log = LogisticRegression()\n",
    "\n",
    "pipe = make_pipeline(tfidf, ss, logreg)\n",
    "\n"
   ]
  },
  {
   "cell_type": "code",
   "execution_count": 154,
   "metadata": {},
   "outputs": [
    {
     "name": "stdout",
     "output_type": "stream",
     "text": [
      "LogReg Pre Covid\n",
      "train: 0.9637382075471698\n",
      "test: 0.9436910377358491\n",
      "\n",
      "score on Covid data: 0.9359580052493438\n"
     ]
    }
   ],
   "source": [
    "pipe.fit(X_train_pre, y_train_pre)\n",
    "print('LogReg Pre Covid')\n",
    "print('train: ' + str(pipe.score(X_train_pre, y_train_pre)))\n",
    "print('test: ' + str(pipe.score(X_test_pre, y_test_pre)))"
   ]
  },
  {
   "cell_type": "code",
   "execution_count": 147,
   "metadata": {},
   "outputs": [
    {
     "name": "stdout",
     "output_type": "stream",
     "text": [
      "LogReg During Covid\n",
      "train: 0.9636024265048997\n",
      "test: 0.940517844646606\n"
     ]
    }
   ],
   "source": [
    "pipe.fit(X_train_cov, y_train_cov)\n",
    "print('LogReg During Covid')\n",
    "print('train: ' + str(pipe.score(X_train_cov, y_train_cov)))\n",
    "print('test: ' + str(pipe.score(X_test_cov, y_test_cov)))"
   ]
  },
  {
   "cell_type": "code",
   "execution_count": 155,
   "metadata": {},
   "outputs": [
    {
     "name": "stdout",
     "output_type": "stream",
     "text": [
      "score on Covid data: 0.9359580052493438\n"
     ]
    }
   ],
   "source": [
    "pipe.fit(X_train_pre, y_train_pre)\n",
    "\n",
    "print('score on Covid data: ' + str(pipe.score(X_cov, y_cov)))"
   ]
  },
  {
   "cell_type": "markdown",
   "metadata": {},
   "source": [
    "### RandomForest"
   ]
  },
  {
   "cell_type": "code",
   "execution_count": 222,
   "metadata": {},
   "outputs": [
    {
     "name": "stdout",
     "output_type": "stream",
     "text": [
      "RandomForest Pre Covid\n",
      "train: 0.9996069182389937\n",
      "test: 0.9522405660377359\n"
     ]
    }
   ],
   "source": [
    "#---using pipeline from above\n",
    "\n",
    "pipe_forest_tfidf.fit(X_train_pre, y_train_pre)\n",
    "print('RandomForest Pre Covid')\n",
    "print('train: ' + str(pipe_forest_tfidf.score(X_train_pre, y_train_pre)))\n",
    "print('test: ' + str(pipe_forest_tfidf.score(X_test_pre, y_test_pre)))"
   ]
  },
  {
   "cell_type": "code",
   "execution_count": 223,
   "metadata": {},
   "outputs": [
    {
     "name": "stdout",
     "output_type": "stream",
     "text": [
      "score on Covid data: 0.9464566929133859\n"
     ]
    }
   ],
   "source": [
    "print('score on Covid data: ' + str(pipe_forest_tfidf.score(X_cov, y_cov)))"
   ]
  },
  {
   "cell_type": "code",
   "execution_count": null,
   "metadata": {},
   "outputs": [],
   "source": []
  }
 ],
 "metadata": {
  "kernelspec": {
   "display_name": "Python 3",
   "language": "python",
   "name": "python3"
  },
  "language_info": {
   "codemirror_mode": {
    "name": "ipython",
    "version": 3
   },
   "file_extension": ".py",
   "mimetype": "text/x-python",
   "name": "python",
   "nbconvert_exporter": "python",
   "pygments_lexer": "ipython3",
   "version": "3.8.2"
  }
 },
 "nbformat": 4,
 "nbformat_minor": 4
}
